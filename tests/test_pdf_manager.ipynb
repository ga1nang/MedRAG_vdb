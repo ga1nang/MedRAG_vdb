{
 "cells": [
  {
   "cell_type": "code",
   "execution_count": 4,
   "id": "0fb9a326",
   "metadata": {},
   "outputs": [],
   "source": [
    "import sys\n",
    "import os\n",
    "\n",
    "# Add the parent of \"src\" to sys.path\n",
    "sys.path.append(os.path.abspath(os.path.join(os.getcwd(), \"..\")))\n",
    "\n",
    "from src.rag.utils.pdf_manager import PdfManager\n"
   ]
  },
  {
   "cell_type": "code",
   "execution_count": 6,
   "id": "bfb7fa4b",
   "metadata": {},
   "outputs": [],
   "source": [
    "pdf_manager = PdfManager()"
   ]
  },
  {
   "cell_type": "code",
   "execution_count": 8,
   "id": "9dd94e4c",
   "metadata": {},
   "outputs": [
    {
     "data": {
      "text/plain": [
       "'/media/pc1/Ubuntu/Extend_Data/em_Thanh/medrag_colpali/tests'"
      ]
     },
     "execution_count": 8,
     "metadata": {},
     "output_type": "execute_result"
    }
   ],
   "source": [
    "os.getcwd()"
   ]
  },
  {
   "cell_type": "code",
   "execution_count": 9,
   "id": "4b2c3f2b",
   "metadata": {},
   "outputs": [
    {
     "name": "stdout",
     "output_type": "stream",
     "text": [
      "Clearing output folder data/processed/1/\n",
      "The number of unprocessed images is: 0\n"
     ]
    }
   ],
   "source": [
    "img_paths = pdf_manager.save_images(1, \"../data/raw/Oxford Handbook of Tropical Medicine 5E - Robert Davidson.pdf\")"
   ]
  },
  {
   "cell_type": "code",
   "execution_count": null,
   "id": "4c6d9741",
   "metadata": {},
   "outputs": [],
   "source": []
  }
 ],
 "metadata": {
  "kernelspec": {
   "display_name": ".venv",
   "language": "python",
   "name": "python3"
  },
  "language_info": {
   "codemirror_mode": {
    "name": "ipython",
    "version": 3
   },
   "file_extension": ".py",
   "mimetype": "text/x-python",
   "name": "python",
   "nbconvert_exporter": "python",
   "pygments_lexer": "ipython3",
   "version": "3.10.18"
  }
 },
 "nbformat": 4,
 "nbformat_minor": 5
}
