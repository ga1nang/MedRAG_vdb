{
 "cells": [
  {
   "cell_type": "code",
   "execution_count": 2,
   "id": "d869df68",
   "metadata": {},
   "outputs": [
    {
     "name": "stderr",
     "output_type": "stream",
     "text": [
      "/media/pc1/Ubuntu/Extend_Data/anaconda3/envs/ares_thanh/lib/python3.9/site-packages/tqdm/auto.py:21: TqdmWarning: IProgress not found. Please update jupyter and ipywidgets. See https://ipywidgets.readthedocs.io/en/stable/user_install.html\n",
      "  from .autonotebook import tqdm as notebook_tqdm\n"
     ]
    }
   ],
   "source": [
    "import os\n",
    "import json\n",
    "import requests\n",
    "from dotenv import load_dotenv\n",
    "from PIL import Image\n",
    "from transformers import pipeline\n",
    "\n",
    "load_dotenv()\n",
    "hf_token = os.getenv(\"HF_TOKEN\")\n",
    "os.environ[\"HF_HOME\"] = \"/media/pc1/Ubuntu/Extend_Data/hf_models\""
   ]
  },
  {
   "cell_type": "code",
   "execution_count": 3,
   "id": "08e420c8",
   "metadata": {},
   "outputs": [],
   "source": [
    "image = \"/media/pc1/Ubuntu/Extend_Data/em_Thanh/pace_up/images/1---A-20-Year-Old-Woman-from-Sudan-With-Fever--_2022_Clinical-Cases-in-Tropi_1.jpeg\"\n",
    "file_path = \"/media/pc1/Ubuntu/Extend_Data/em_Thanh/pace_up/cases_test/1---A-20-Year-Old-Woman-from-Sudan-With-Fever--_2022_Clinical-Cases-in-Tropi.json\""
   ]
  },
  {
   "cell_type": "code",
   "execution_count": 4,
   "id": "30abafc3",
   "metadata": {},
   "outputs": [
    {
     "name": "stdout",
     "output_type": "stream",
     "text": [
      "# Intro:\n",
      "1 A 20-Year-Old Woman from Sudan With Fever, Haemorrhage and Shock DANIEL G. BAUSCH\n",
      "\n",
      "# Clinical Presentation:\n",
      "History A 20-year-old housewife presents to a hospital in northern Uganda with a 2-day history of fever, severe asthenia, chest and abdominal pain, nausea, vomiting, diarrhoea and slight non-productive cough. The patient is a Sudanese refugee living in a camp in the region. She denies any contact with sick people. Clinical Findings The patient is prostrate and semiconscious on admission. Vital signs: temperature 39.6°C, (103.3°F) blood pressure 90/60mmHg, pulse 90 bpm, and respiratory rate 24 cycles per minute. Physical examination revealed abdominal tenderness, especially in the right upper quadrant, hepatosplenomegaly and bleeding from the gums. The lungs were clear. No rash or lymphadenopathy was noted.\n",
      "\n",
      "# Questions:\n",
      "1. Is the patient’s history and clinical presentation consistent with a haemorrhagic fever (HF) syndrome? 2. What degree of nursing precautions need to be implemented?\n",
      "\n",
      "# Discussion:\n",
      "This patient was seen during an outbreak of Ebola virus disease in northern Uganda, so the diagnosis was strongly suspected. She was admitted to the isolation ward that had been established as part of the international outbreak response. No clinical laboratory data were available because, for biosafety reasons, such testing was suspended. Although it is a reasonable precaution, the suspension of routine testing often causes difficulty in ruling out the many other febrile syndromes in the differential diagnosis and increases mortality from other non-Ebola disease. Fortunately, many clinical laboratory tests can now be safely performed with point-of-care instruments, often brought into a specialized laboratory in the isolation ward, as long as the laboratory personnel are properly trained and equipped. Answer to Question 1 Is the Patient’s History and Clinical Presentation Consistent with an HF Syndrome? The clinical presentation is indeed one of classic viral HF. However, most times the diagnosis is not so easy. Although some patients, such as this one, do progress to the classic syndrome with haemorrhage, multiple organ dysfunction syndrome and shock, haemorrhage is not invariably seen (and may even be noted in only a minority of cases with some virus species), and severe and fatal disease may still occur in its absence. The clinical presentation of viral HF is often very non-specific. Furthermore, haemorrhage may be seen in numerous other syndromes, such as complicated malaria, typhoid fever, bacterial gastroenteritis and leptospirosis, which are the primary differential diagnoses, depending on the region. Answer to Question 2 What Degree of Nursing Precautions Needs to be Implemented? The spread of Ebola virus between humans is through direct contact with blood or bodily fluids. Secondary attack rates are generally 15% to 20% during outbreaks in Africa, and much lower if proper universal precautions are maintained. Specialized viral HF precautions and personal protective equipment are warranted when there is a confirmed case or high index of suspicion, such as in this case. The Case Continued. . . Intravenous fluids, broad-spectrum antibiotics and analgesics were begun on admission. Nevertheless, the patient’s condition rapidly worsened, with subconjunctival haemorrhage, copious bleeding from the mouth, nose and rectum 1 (Figs. 1.1 and 1.2), dyspnoea and hypothermic shock (temperature 36.0° C, blood pressure ¼ unreadable, pulse 150 bpm, respiratory rate 36 cycles per minute). She became comatose and died approximately 24 hours after admission. Laboratory testing at a specialized laboratory established as part of the outbreak response showed positive ELISA antigen and PCR tests for Ebola virus and a negative result for ELISA IgG antibody, confirming the diagnosis of Ebola virus disease.\n",
      "\n",
      "# Summary Box:\n",
      "Filoviral Diseases Ebola and Marburg virus disease are the two syndromes caused by filoviruses. Microvascular instability with capillary leak and impaired haemostasis, often including disseminated intravascular coagulation, are the pathogenic hallmarks. There are four known pathogenic species of Ebola and one of Marburg virus, with relatively consistent case fatality associated with each species, ranging from 25% to 85%. Ebola and Marburg diseases are generally indistinguishable, both with non-specific presentations typically including fever, headache, asthenia, myalgias, abdominal pain, nausea, vomiting and diarrhoea. Conjunctival injection and subconjunctival haemorrhage are common. A fleeting maculopapular rash is occasionally seen. Typical laboratory findings include mild lymphopenia and thrombocytopenia, and elevated hepatic transaminases, with AST>ALT. Leucocytosis may be seen in late stages. The differential diagnosis is extremely broad, including almost all febrile diseases common in the tropics. Ebola and Marburg virus diseases are endemic in subSaharan Africa, with Ebola virus typically found in tropical rainforests in the central and western parts of the continent and Marburg virus in the drier forest or savannah in the east. Evidence strongly implicates fruit bats as the filovirus reservoir, especially the Egyptian fruit bat(Rousettus aegyptiacus)as the reservoir for Marburg virus. Human infection likely occurs from inadvertent exposure to infected bat excreta or saliva. Male-to-female sexual transmission may occur months after infection because of the virus’s persistence in the semen, although these events are relatively rare. Miners, spelunkers, forestry workers and others with exposure in environments typically inhabited by bats are at risk, especially for Marburg virus disease. Non-human primates, especially gorillas and chimpanzees, and other wild animals may serve as intermediate hosts that transmit filoviruses to humans through contact with their blood and bodily fluids, usually associated with hunting and butchering. These wild animals are presumably also infected by exposure to bats and usually develop severe and fatal disease similar to human viral HF. Most outbreaks are thought to result from a single or very few human introductions from a zoonotic source followed by nosocomial amplification through person-to-person transmission in a setting of inadequate universal precautions, usually in rural areas of countries where civil unrest has decimated the healthcare infrastructure. Because symptoms are generally non-specific and laboratory testing is not widely available, viral HF outbreaks are usually recognized only if a cluster of cases occurs, especially when healthcare workers are involved. Having been into caves or mines, and direct or indirect contact with wild animals or people with suspected viral HF, are key diagnostic clues, but these are not uniformly present. Outside consultation with experts in the field and testing of suspected cases should be rapidly undertaken and public health authorities must be alerted. Contact tracing should be undertaken to identify all persons with direct unprotected exposure with the case patient, with surveillance of contacts for fever for 21 days (the maximum incubation period for Ebola and Marburg virus diseases). Any contact developing fever or showing other signs of viral HF should immediately be isolated and tested. incubation period for Ebola and Marburg virus diseases). Any contact developing fever or showing other signs of viral HF should immediately be isolated and tested. Treatment is supportive. Antimalarials and broad-spectrum antibiotics should be given until the diagnosis of viral HF is confirmed. Preliminary results from a clinical trial of experimental compounds conducted during an outbreak in the Democratic Republic of the Congo show very promising results, reducing case fatality to as low as 10% if treatment is administered early in the course of disease. Similarly, a clinical trial of an Ebola vaccine in the Democratic Republic of the Congo and during the massive 2013 to 2016 outbreak in West Africa showed protective efficacy of over 90%.\n",
      "\n",
      "# Figure Descriptions:\n",
      "<image> Fig. 1.1 Oral bleeding in Ebola virus disease. (Bausch, D.G., 2008. Viral hemorrhagic fevers. In: Schlossberg, D. (Ed.), Clinical Infectious Disease. Cambridge University Press, New York. Used with permission. Photo by Bausch, D.)\n",
      "<image> Fig. 1.2 Rectal bleeding in Ebola virus disease. (Bausch, D.G., 2008. Viral hemorrhagic fevers. In: Schlossberg, D. (Ed.), Clinical Infectious Disease. Cambridge University Press, New York. Used with permission. Photo by Bausch, D.) 2 CHAPTER 1 A 20-Year-Old Woman from Sudan With Fever, Haemorrhage and Shock\n",
      "\n"
     ]
    }
   ],
   "source": [
    "# Load JSON\n",
    "with open(file_path, \"r\", encoding=\"utf-8\") as f:\n",
    "    data = json.load(f)\n",
    "\n",
    "# Combine all fields except \"Extracted Figure\"\n",
    "combined_text = \"\"\n",
    "for key, value in data.items():\n",
    "    if key not in [\"Extracted Figure\", \"Further Reading\"]:\n",
    "        combined_text += f\"# {key}:\\n{value}\\n\\n\"\n",
    "\n",
    "# Add Descriptions from \"Extracted Figure\"\n",
    "descriptions = []\n",
    "for figure_group in data.get(\"Extracted Figure\", []):\n",
    "    for figure in figure_group:\n",
    "        desc = figure.get(\"Description\", \"\")\n",
    "        descriptions.append(desc)\n",
    "\n",
    "if descriptions:\n",
    "    combined_text += \"# Figure Descriptions:\\n\"\n",
    "    for desc in descriptions:\n",
    "        combined_text += f\"{desc}\\n\"\n",
    "\n",
    "print(combined_text)"
   ]
  },
  {
   "cell_type": "code",
   "execution_count": 5,
   "id": "e04f5f18",
   "metadata": {},
   "outputs": [],
   "source": [
    "image = Image.open(image)"
   ]
  },
  {
   "cell_type": "code",
   "execution_count": null,
   "id": "33341042",
   "metadata": {},
   "outputs": [
    {
     "name": "stderr",
     "output_type": "stream",
     "text": [
      "Fetching 2 files: 100%|██████████| 2/2 [22:24<00:00, 672.45s/it] \n",
      "Loading checkpoint shards: 100%|██████████| 2/2 [00:02<00:00,  1.06s/it]\n",
      "Using a slow image processor as `use_fast` is unset and a slow processor was saved with this model. `use_fast=True` will be the default behavior in v4.52, even if the model was saved with a slow processor. This will result in minor differences in outputs. You'll still be able to use a slow processor with `use_fast=False`.\n",
      "Device set to use cuda:0\n"
     ]
    }
   ],
   "source": [
    "pipe = pipeline(\"image-text-to-text\", model=\"google/medgemma-4b-it\", token=hf_token)"
   ]
  },
  {
   "cell_type": "code",
   "execution_count": 9,
   "id": "5d4a1b47",
   "metadata": {},
   "outputs": [
    {
     "name": "stderr",
     "output_type": "stream",
     "text": [
      "Setting `pad_token_id` to `eos_token_id`:1 for open-end generation.\n"
     ]
    },
    {
     "name": "stdout",
     "output_type": "stream",
     "text": [
      "[{'role': 'user', 'content': [{'type': 'image', 'image': <PIL.JpegImagePlugin.JpegImageFile image mode=CMYK size=376x370 at 0x7F7222AA3370>}, {'type': 'text', 'text': 'Describe detail the image'}]}, {'role': 'assistant', 'content': \"The image shows a young child with severe facial injuries. The child's eyes are prominent and appear to be bloodshot and possibly injured, with some visible blood around the eyes. The child's face shows signs of trauma, including what appears to be a cut or laceration on the lip, which is also bleeding. There is a significant amount of blood visible around the child's face. The background is somewhat blurred and shows a colorful, possibly patterned cloth, suggesting the child was likely found in or near a makeshift shelter.\\n\"}]\n"
     ]
    }
   ],
   "source": [
    "messages = [\n",
    "    {\n",
    "        \"role\": \"user\",\n",
    "        \"content\": [\n",
    "            {\"type\": \"image\", \"image\": image},\n",
    "            {\"type\": \"text\", \"text\": \"Describe detail the image\"}\n",
    "        ]\n",
    "    },\n",
    "]\n",
    "result = pipe(messages, max_new_tokens=8192)\n",
    "print(result[0][\"generated_text\"])"
   ]
  },
  {
   "cell_type": "code",
   "execution_count": 12,
   "id": "573e51c5",
   "metadata": {},
   "outputs": [
    {
     "name": "stderr",
     "output_type": "stream",
     "text": [
      "Setting `pad_token_id` to `eos_token_id`:1 for open-end generation.\n"
     ]
    },
    {
     "name": "stdout",
     "output_type": "stream",
     "text": [
      "[{'role': 'user', 'content': [{'type': 'image', 'image': <PIL.JpegImagePlugin.JpegImageFile image mode=CMYK size=376x370 at 0x7F7222AA3370>}, {'type': 'text', 'text': 'You are a clinical expert in Tropical and Infectious diseases. This is an image of patient. Can you describe it in detail to support the diagnosis.'}]}, {'role': 'assistant', 'content': \"This image depicts a child with severe facial trauma, likely inflicted by violence. Key features that support this are:\\n\\n*   **Severe Bleeding:** There is significant blood present, especially around the mouth and eyes. This indicates a major injury.\\n\\n*   **Contusion/Bruising:** The face is likely bruised, based on the discoloration.\\n\\n*   **Facial Distortion:** The facial features are distorted, which could be due to the extent of the injury and potential displacement of tissues.\\n\\nWithout further clinical information, it is not possible to provide a definitive diagnosis. However, these findings are consistent with physical abuse or severe trauma to the face. A medical professional would need to assess the child's overall condition, conduct a thorough examination, and gather relevant history to establish a diagnosis.\\n\"}]\n"
     ]
    }
   ],
   "source": [
    "messages = [\n",
    "    {\n",
    "        \"role\": \"user\",\n",
    "        \"content\": [\n",
    "            {\"type\": \"image\", \"image\": image},\n",
    "            {\"type\": \"text\", \"text\": \"You are a clinical expert in Tropical and Infectious diseases. This is an image of patient. Can you describe it in detail to support the diagnosis.\"}\n",
    "        ]\n",
    "    },\n",
    "]\n",
    "result = pipe(messages, max_new_tokens=8192)\n",
    "print(result[0][\"generated_text\"])"
   ]
  },
  {
   "cell_type": "code",
   "execution_count": 14,
   "id": "6555da94",
   "metadata": {},
   "outputs": [
    {
     "name": "stdout",
     "output_type": "stream",
     "text": [
      "This image depicts a child with severe facial trauma, likely inflicted by violence. Key features that support this are:\n",
      "\n",
      "*   **Severe Bleeding:** There is significant blood present, especially around the mouth and eyes. This indicates a major injury.\n",
      "\n",
      "*   **Contusion/Bruising:** The face is likely bruised, based on the discoloration.\n",
      "\n",
      "*   **Facial Distortion:** The facial features are distorted, which could be due to the extent of the injury and potential displacement of tissues.\n",
      "\n",
      "Without further clinical information, it is not possible to provide a definitive diagnosis. However, these findings are consistent with physical abuse or severe trauma to the face. A medical professional would need to assess the child's overall condition, conduct a thorough examination, and gather relevant history to establish a diagnosis.\n",
      "\n"
     ]
    }
   ],
   "source": [
    "print(result[0][\"generated_text\"][-1]['content'])"
   ]
  },
  {
   "cell_type": "code",
   "execution_count": null,
   "id": "b8101f96",
   "metadata": {},
   "outputs": [],
   "source": [
    "The image shows a young child with severe facial injuries. The child's eyes are prominent and appear to be bloodshot and possibly injured, with some visible blood around the eyes. The child's face shows signs of trauma, including what appears to be a cut or laceration on the lip, which is also bleeding. There is a significant amount of blood visible around the child's face. The background is somewhat blurred and shows a colorful, possibly patterned cloth, suggesting the child was likely found in or near a makeshift shelter"
   ]
  }
 ],
 "metadata": {
  "kernelspec": {
   "display_name": "ares_thanh",
   "language": "python",
   "name": "python3"
  },
  "language_info": {
   "codemirror_mode": {
    "name": "ipython",
    "version": 3
   },
   "file_extension": ".py",
   "mimetype": "text/x-python",
   "name": "python",
   "nbconvert_exporter": "python",
   "pygments_lexer": "ipython3",
   "version": "3.9.23"
  }
 },
 "nbformat": 4,
 "nbformat_minor": 5
}
