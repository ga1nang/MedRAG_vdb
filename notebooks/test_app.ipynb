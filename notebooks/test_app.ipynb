{
 "cells": [
  {
   "cell_type": "code",
   "execution_count": 1,
   "id": "3c341eef",
   "metadata": {},
   "outputs": [],
   "source": [
    "import os\n",
    "os.chdir(\"/media/pc1/Ubuntu/Extend_Data/em_Thanh/medrag_colpali\")"
   ]
  },
  {
   "cell_type": "code",
   "execution_count": 2,
   "id": "aea219e7",
   "metadata": {},
   "outputs": [],
   "source": [
    "os.environ[\"HF_HOME\"] = \"/media/pc1/Ubuntu/Extend_Data/hf_models\"\n",
    "os.environ[\"HF_HUB_ENABLE_HF_TRANSFER\"] = \"1\"\n",
    "os.environ[\"CUDA_LAUNCH_BLOCKING\"] = \"1\"\n",
    "# os.environ[\"PYTORCH_ENABLE_SDPA\"] = \"0\"\n",
    "# os.environ[\"FLASH_ATTENTION_FORCE_DISABLE\"] = \"1\""
   ]
  },
  {
   "cell_type": "code",
   "execution_count": 3,
   "id": "ebc641f7",
   "metadata": {},
   "outputs": [
    {
     "data": {
      "text/plain": [
       "'/media/pc1/Ubuntu/Extend_Data/em_Thanh/medrag_colpali'"
      ]
     },
     "execution_count": 3,
     "metadata": {},
     "output_type": "execute_result"
    }
   ],
   "source": [
    "os.getcwd()"
   ]
  },
  {
   "cell_type": "code",
   "execution_count": 4,
   "id": "c422583c",
   "metadata": {},
   "outputs": [
    {
     "name": "stderr",
     "output_type": "stream",
     "text": [
      "/media/pc1/Ubuntu/Extend_Data/em_Thanh/medrag_colpali/.venv/lib/python3.10/site-packages/tqdm/auto.py:21: TqdmWarning: IProgress not found. Please update jupyter and ipywidgets. See https://ipywidgets.readthedocs.io/en/stable/user_install.html\n",
      "  from .autonotebook import tqdm as notebook_tqdm\n"
     ]
    },
    {
     "name": "stdout",
     "output_type": "stream",
     "text": [
      "./config/rag_config.yaml\n",
      "./config/rag_config.yaml\n"
     ]
    }
   ],
   "source": [
    "# Make sure your project root (the folder that contains src/) is on sys.path\n",
    "from src.rag.vectordb.middleware import Middleware\n",
    "from src.rag.rag import Rag\n",
    "\n",
    "# Instantiate helpers once per notebook session\n",
    "USER_ID = 1                            # hard-coded for single-user test\n",
    "middleware = Middleware(USER_ID, model_name=\"vidore/colSmol-500M\", quantized=False, create_collection=True)\n",
    "# rag = Rag()                # change credentials inside Rag if needed\n"
   ]
  },
  {
   "cell_type": "code",
   "execution_count": 5,
   "id": "14b093a2",
   "metadata": {},
   "outputs": [],
   "source": [
    "# middleware.index(\"1\", \"data/raw/Oxford Handbook of Tropical Medicine 5E - Robert Davidson.pdf\")"
   ]
  },
  {
   "cell_type": "code",
   "execution_count": 5,
   "id": "c35dd96b",
   "metadata": {},
   "outputs": [
    {
     "name": "stderr",
     "output_type": "stream",
     "text": [
      "Loading checkpoint shards: 100%|██████████| 2/2 [00:00<00:00,  5.30it/s]\n",
      "Using a slow image processor as `use_fast` is unset and a slow processor was saved with this model. `use_fast=True` will be the default behavior in v4.52, even if the model was saved with a slow processor. This will result in minor differences in outputs. You'll still be able to use a slow processor with `use_fast=False`.\n",
      "Device set to use cuda:0\n"
     ]
    }
   ],
   "source": [
    "rag = Rag()"
   ]
  },
  {
   "cell_type": "code",
   "execution_count": 6,
   "id": "e5a1d374",
   "metadata": {},
   "outputs": [],
   "source": [
    "query  = \"Clinical Presentation: History A 20-year-old housewife presents to a hospital in northern Uganda with a 2-day history of fever, severe asthenia, chest and abdominal pain, nausea, vomiting, diarrhoea and slight non-productive cough. The patient is a Sudanese refugee living in a camp in the region. She denies any contact with sick people. Clinical Findings The patient is prostrate and semiconscious on admission. Vital signs: temperature 39.6°C, (103.3°F) blood pressure 90/60mmHg, pulse 90 bpm, and respiratory rate 24 cycles per minute. Physical examination revealed abdominal tenderness, especially in the right upper quadrant, hepatosplenomegaly and bleeding from the gums. The lungs were clear. No rash or lymphadenopathy was noted.\\n\" \\\n",
    "\"Questions: 1. Is the patient’s history and clinical presentation consistent with a haemorrhagic fever (HF) syndrome? 2. What degree of nursing precautions need to be implemented?,\\n\" \\\n",
    "\"Discussion: This patient was seen during an outbreak of Ebola virus disease in northern Uganda, so the diagnosis was strongly suspected. She was admitted to the isolation ward that had been established as part of the international outbreak response. No clinical laboratory data were available because, for biosafety reasons, such testing was suspended. Although it is a reasonable precaution, the suspension of routine testing often causes difficulty in ruling out the many other febrile syndromes in the differential diagnosis and increases mortality from other non-Ebola disease. Fortunately, many clinical laboratory tests can now be safely performed with point-of-care instruments, often brought into a specialized laboratory in the isolation ward, as long as the laboratory personnel are properly trained and equipped. Answer to Question 1 Is the Patient’s History and Clinical Presentation Consistent with an HF Syndrome? The clinical presentation is indeed one of classic viral HF. However, most times the diagnosis is not so easy. Although some patients, such as this one, do progress to the classic syndrome with haemorrhage, multiple organ dysfunction syndrome and shock, haemorrhage is not invariably seen (and may even be noted in only a minority of cases with some virus species), and severe and fatal disease may still occur in its absence. The clinical presentation of viral HF is often very non-specific. Furthermore, haemorrhage may be seen in numerous other syndromes, such as complicated malaria, typhoid fever, bacterial gastroenteritis and leptospirosis, which are the primary differential diagnoses, depending on the region. Answer to Question 2 What Degree of Nursing Precautions Needs to be Implemented? The spread of Ebola virus between humans is through direct contact with blood or bodily fluids. Secondary attack rates are generally 15% to 20% during outbreaks in Africa, and much lower if proper universal precautions are maintained. Specialized viral HF precautions and personal protective equipment are warranted when there is a confirmed case or high index of suspicion, such as in this case.\\n\" \\\n",
    "\"The Case Continued. . . Intravenous fluids, broad-spectrum antibiotics and analgesics were begun on admission. Nevertheless, the patient’s condition rapidly worsened, with subconjunctival haemorrhage, copious bleeding from the mouth, nose and rectum 1 (Figs. 1.1 and 1.2), dyspnoea and hypothermic shock (temperature 36.0° C, blood pressure ¼ unreadable, pulse 150 bpm, respiratory rate 36 cycles per minute). She became comatose and died approximately 24 hours after admission. Laboratory testing at a specialized laboratory established as part of the outbreak response showed positive ELISA antigen and PCR tests for Ebola virus and a negative result for ELISA IgG antibody, confirming the diagnosis of Ebola virus diseases.\" \\\n",
    "\"Think step by step, after that, give the DIAGNOSIS and the NAME of the disease.\"\n"
   ]
  },
  {
   "cell_type": "code",
   "execution_count": 7,
   "id": "76e976d1",
   "metadata": {},
   "outputs": [
    {
     "name": "stdout",
     "output_type": "stream",
     "text": [
      "[Middleware] Received query/queries\n",
      "  → 'Clinical Presentation: History A 20-year-old housewife presents to a hospital in northern Uganda with a 2-day history of fever, severe asthenia, chest and abdominal pain, nausea, vomiting, diarrhoea and slight non-productive cough. The patient is a Sudanese refugee living in a camp in the region. She denies any contact with sick people. Clinical Findings The patient is prostrate and semiconscious on admission. Vital signs: temperature 39.6°C, (103.3°F) blood pressure 90/60mmHg, pulse 90 bpm, and respiratory rate 24 cycles per minute. Physical examination revealed abdominal tenderness, especially in the right upper quadrant, hepatosplenomegaly and bleeding from the gums. The lungs were clear. No rash or lymphadenopathy was noted.\\nQuestions: 1. Is the patient’s history and clinical presentation consistent with a haemorrhagic fever (HF) syndrome? 2. What degree of nursing precautions need to be implemented?,\\nDiscussion: This patient was seen during an outbreak of Ebola virus disease in northern Uganda, so the diagnosis was strongly suspected. She was admitted to the isolation ward that had been established as part of the international outbreak response. No clinical laboratory data were available because, for biosafety reasons, such testing was suspended. Although it is a reasonable precaution, the suspension of routine testing often causes difficulty in ruling out the many other febrile syndromes in the differential diagnosis and increases mortality from other non-Ebola disease. Fortunately, many clinical laboratory tests can now be safely performed with point-of-care instruments, often brought into a specialized laboratory in the isolation ward, as long as the laboratory personnel are properly trained and equipped. Answer to Question 1 Is the Patient’s History and Clinical Presentation Consistent with an HF Syndrome? The clinical presentation is indeed one of classic viral HF. However, most times the diagnosis is not so easy. Although some patients, such as this one, do progress to the classic syndrome with haemorrhage, multiple organ dysfunction syndrome and shock, haemorrhage is not invariably seen (and may even be noted in only a minority of cases with some virus species), and severe and fatal disease may still occur in its absence. The clinical presentation of viral HF is often very non-specific. Furthermore, haemorrhage may be seen in numerous other syndromes, such as complicated malaria, typhoid fever, bacterial gastroenteritis and leptospirosis, which are the primary differential diagnoses, depending on the region. Answer to Question 2 What Degree of Nursing Precautions Needs to be Implemented? The spread of Ebola virus between humans is through direct contact with blood or bodily fluids. Secondary attack rates are generally 15% to 20% during outbreaks in Africa, and much lower if proper universal precautions are maintained. Specialized viral HF precautions and personal protective equipment are warranted when there is a confirmed case or high index of suspicion, such as in this case.\\nThe Case Continued. . . Intravenous fluids, broad-spectrum antibiotics and analgesics were begun on admission. Nevertheless, the patient’s condition rapidly worsened, with subconjunctival haemorrhage, copious bleeding from the mouth, nose and rectum 1 (Figs. 1.1 and 1.2), dyspnoea and hypothermic shock (temperature 36.0° C, blood pressure ¼ unreadable, pulse 150 bpm, respiratory rate 36 cycles per minute). She became comatose and died approximately 24 hours after admission. Laboratory testing at a specialized laboratory established as part of the outbreak response showed positive ELISA antigen and PCR tests for Ebola virus and a negative result for ELISA IgG antibody, confirming the diagnosis of Ebola virus diseases.Think step by step, after that, give the DIAGNOSIS and the NAME of the disease.'\n",
      "Processing 3849 texts\n",
      "    ↳ hits: [('data/processed/1//page_553.png', 52.0), ('data/processed/1//page_150.png', 50.0), ('data/processed/1//page_35.png', 48.0), ('data/processed/1//page_944.png', 48.0), ('data/processed/1//page_682.png', 48.0)]\n",
      "[[('data/processed/1//page_553.png', 52.0), ('data/processed/1//page_150.png', 50.0), ('data/processed/1//page_35.png', 48.0), ('data/processed/1//page_944.png', 48.0), ('data/processed/1//page_682.png', 48.0)]]\n"
     ]
    }
   ],
   "source": [
    "docs = middleware.search(query=query, top_k=5)\n",
    "print(docs)"
   ]
  },
  {
   "cell_type": "code",
   "execution_count": 8,
   "id": "64254b27",
   "metadata": {},
   "outputs": [],
   "source": [
    "image_paths = [path for path, _ in docs[0]] "
   ]
  },
  {
   "cell_type": "code",
   "execution_count": 9,
   "id": "55cf207d",
   "metadata": {},
   "outputs": [
    {
     "name": "stdout",
     "output_type": "stream",
     "text": [
      "[{'role': 'user', 'content': [{'type': 'image'}, {'type': 'image'}, {'type': 'image'}, {'type': 'image'}, {'type': 'image'}, {'type': 'text', 'text': 'Clinical Presentation: History A 20-year-old housewife presents to a hospital in northern Uganda with a 2-day history of fever, severe asthenia, chest and abdominal pain, nausea, vomiting, diarrhoea and slight non-productive cough. The patient is a Sudanese refugee living in a camp in the region. She denies any contact with sick people. Clinical Findings The patient is prostrate and semiconscious on admission. Vital signs: temperature 39.6°C, (103.3°F) blood pressure 90/60mmHg, pulse 90 bpm, and respiratory rate 24 cycles per minute. Physical examination revealed abdominal tenderness, especially in the right upper quadrant, hepatosplenomegaly and bleeding from the gums. The lungs were clear. No rash or lymphadenopathy was noted.\\nQuestions: 1. Is the patient’s history and clinical presentation consistent with a haemorrhagic fever (HF) syndrome? 2. What degree of nursing precautions need to be implemented?,\\nDiscussion: This patient was seen during an outbreak of Ebola virus disease in northern Uganda, so the diagnosis was strongly suspected. She was admitted to the isolation ward that had been established as part of the international outbreak response. No clinical laboratory data were available because, for biosafety reasons, such testing was suspended. Although it is a reasonable precaution, the suspension of routine testing often causes difficulty in ruling out the many other febrile syndromes in the differential diagnosis and increases mortality from other non-Ebola disease. Fortunately, many clinical laboratory tests can now be safely performed with point-of-care instruments, often brought into a specialized laboratory in the isolation ward, as long as the laboratory personnel are properly trained and equipped. Answer to Question 1 Is the Patient’s History and Clinical Presentation Consistent with an HF Syndrome? The clinical presentation is indeed one of classic viral HF. However, most times the diagnosis is not so easy. Although some patients, such as this one, do progress to the classic syndrome with haemorrhage, multiple organ dysfunction syndrome and shock, haemorrhage is not invariably seen (and may even be noted in only a minority of cases with some virus species), and severe and fatal disease may still occur in its absence. The clinical presentation of viral HF is often very non-specific. Furthermore, haemorrhage may be seen in numerous other syndromes, such as complicated malaria, typhoid fever, bacterial gastroenteritis and leptospirosis, which are the primary differential diagnoses, depending on the region. Answer to Question 2 What Degree of Nursing Precautions Needs to be Implemented? The spread of Ebola virus between humans is through direct contact with blood or bodily fluids. Secondary attack rates are generally 15% to 20% during outbreaks in Africa, and much lower if proper universal precautions are maintained. Specialized viral HF precautions and personal protective equipment are warranted when there is a confirmed case or high index of suspicion, such as in this case.\\nThe Case Continued. . . Intravenous fluids, broad-spectrum antibiotics and analgesics were begun on admission. Nevertheless, the patient’s condition rapidly worsened, with subconjunctival haemorrhage, copious bleeding from the mouth, nose and rectum 1 (Figs. 1.1 and 1.2), dyspnoea and hypothermic shock (temperature 36.0° C, blood pressure ¼ unreadable, pulse 150 bpm, respiratory rate 36 cycles per minute). She became comatose and died approximately 24 hours after admission. Laboratory testing at a specialized laboratory established as part of the outbreak response showed positive ELISA antigen and PCR tests for Ebola virus and a negative result for ELISA IgG antibody, confirming the diagnosis of Ebola virus diseases.Think step by step, after that, give the DIAGNOSIS and the NAME of the disease.'}]}]\n"
     ]
    }
   ],
   "source": [
    "answer = rag.get_answer_from_medgemma(query=query, images_path=image_paths)"
   ]
  },
  {
   "cell_type": "code",
   "execution_count": 15,
   "id": "471832f2",
   "metadata": {},
   "outputs": [],
   "source": [
    "from IPython.display import Markdown, display\n"
   ]
  },
  {
   "cell_type": "code",
   "execution_count": 16,
   "id": "fcd65ce8",
   "metadata": {},
   "outputs": [
    {
     "data": {
      "text/markdown": [
       "Okay, let's break down the case and arrive at a diagnosis.\n",
       "\n",
       "**Analysis of the Patient's Presentation:**\n",
       "\n",
       "*   **History:**\n",
       "    *   Sudanese refugee in Uganda\n",
       "    *   Fever, severe asthenia (weakness), chest and abdominal pain, nausea, vomiting, diarrhea, slight cough\n",
       "    *   No contact with sick people\n",
       "*   **Clinical Findings:**\n",
       "    *   Prostrate and semiconscious\n",
       "    *   Temperature 39.6°C (103.3°F)\n",
       "    *   Blood pressure 90/60 mmHg\n",
       "    *   Pulse 90 bpm\n",
       "    *   Respiratory rate 24 cycles per minute\n",
       "    *   Abdominal tenderness (especially RUQ)\n",
       "    *   Hepatomegaly (enlarged liver)\n",
       "    *   Splenomegaly (enlarged spleen)\n",
       "    *   Bleeding from gums\n",
       "    *   Clear lungs\n",
       "    *   No rash or lymphadenopathy\n",
       "*   **Progression:**\n",
       "    *   Rapidly worsening condition\n",
       "    *   Subconjunctival hemorrhage (bleeding under the conjunctiva of the eye)\n",
       "    *   Copious bleeding from mouth, nose, and rectum\n",
       "    *   Dyspnea (difficulty breathing)\n",
       "    *   Hypothermic shock (low body temperature)\n",
       "    *   Coma\n",
       "    *   Death\n",
       "\n",
       "**Differential Diagnosis:**\n",
       "\n",
       "Given the history and clinical findings, the most likely differential diagnoses include:\n",
       "\n",
       "*   **Viral Hemorrhagic Fever (VHF):** This is the most concerning possibility given the acute onset, fever, bleeding, and multi-organ involvement. The patient's location in Uganda, a region with a history of VHF outbreaks, further supports this.\n",
       "*   **Severe Malaria:** Malaria can cause fever, abdominal pain, and bleeding, especially in severe cases. However, the absence of a rash and the presence of subconjunctival hemorrhage are less typical of malaria.\n",
       "*   **Typhoid Fever:** Typhoid fever can cause fever, abdominal pain, and bleeding, but the rapid progression and severity of the patient's condition are less common.\n",
       "*   **Bacterial Gastroenteritis:** While possible, the severity of the bleeding and multi-organ dysfunction make this less likely.\n",
       "*   **Other possibilities:** Leptospirosis, Dengue fever, and other less common infections could also be considered.\n",
       "\n",
       "**Laboratory Results:**\n",
       "\n",
       "The laboratory results confirm the diagnosis of Ebola virus disease.\n",
       "\n",
       "**Diagnosis:**\n",
       "\n",
       "Based on the patient's history, clinical presentation, and laboratory findings, the most likely diagnosis is **Ebola Virus Disease (EVD)**.\n",
       "\n",
       "**Name of the Disease:**\n",
       "\n",
       "Ebola Virus Disease\n"
      ],
      "text/plain": [
       "<IPython.core.display.Markdown object>"
      ]
     },
     "metadata": {},
     "output_type": "display_data"
    }
   ],
   "source": [
    "display(Markdown(answer))"
   ]
  },
  {
   "cell_type": "code",
   "execution_count": 12,
   "id": "84fac9c2",
   "metadata": {},
   "outputs": [
    {
     "name": "stdout",
     "output_type": "stream",
     "text": [
      "Okay, let's break down the case and arrive at a diagnosis.\n",
      "\n",
      "**Analysis of the Patient's Presentation:**\n",
      "\n",
      "*   **History:**\n",
      "    *   Sudanese refugee in Uganda\n",
      "    *   Fever, severe asthenia (weakness), chest and abdominal pain, nausea, vomiting, diarrhea, slight cough\n",
      "    *   No contact with sick people\n",
      "*   **Clinical Findings:**\n",
      "    *   Prostrate and semiconscious\n",
      "    *   Temperature 39.6°C (103.3°F)\n",
      "    *   Blood pressure 90/60 mmHg\n",
      "    *   Pulse 90 bpm\n",
      "    *   Respiratory rate 24 cycles per minute\n",
      "    *   Abdominal tenderness (especially RUQ)\n",
      "    *   Hepatomegaly (enlarged liver)\n",
      "    *   Splenomegaly (enlarged spleen)\n",
      "    *   Bleeding from gums\n",
      "    *   Clear lungs\n",
      "    *   No rash or lymphadenopathy\n",
      "*   **Progression:**\n",
      "    *   Rapidly worsening condition\n",
      "    *   Subconjunctival hemorrhage (bleeding under the conjunctiva of the eye)\n",
      "    *   Copious bleeding from mouth, nose, and rectum\n",
      "    *   Dyspnea (difficulty breathing)\n",
      "    *   Hypothermic shock (low body temperature)\n",
      "    *   Coma\n",
      "    *   Death\n",
      "\n",
      "**Differential Diagnosis:**\n",
      "\n",
      "Given the history and clinical findings, the most likely differential diagnoses include:\n",
      "\n",
      "*   **Viral Hemorrhagic Fever (VHF):** This is the most concerning possibility given the acute onset, fever, bleeding, and multi-organ involvement. The patient's location in Uganda, a region with a history of VHF outbreaks, further supports this.\n",
      "*   **Severe Malaria:** Malaria can cause fever, abdominal pain, and bleeding, especially in severe cases. However, the absence of a rash and the presence of subconjunctival hemorrhage are less typical of malaria.\n",
      "*   **Typhoid Fever:** Typhoid fever can cause fever, abdominal pain, and bleeding, but the rapid progression and severity of the patient's condition are less common.\n",
      "*   **Bacterial Gastroenteritis:** While possible, the severity of the bleeding and multi-organ dysfunction make this less likely.\n",
      "*   **Other possibilities:** Leptospirosis, Dengue fever, and other less common infections could also be considered.\n",
      "\n",
      "**Laboratory Results:**\n",
      "\n",
      "The laboratory results confirm the diagnosis of Ebola virus disease.\n",
      "\n",
      "**Diagnosis:**\n",
      "\n",
      "Based on the patient's history, clinical presentation, and laboratory findings, the most likely diagnosis is **Ebola Virus Disease (EVD)**.\n",
      "\n",
      "**Name of the Disease:**\n",
      "\n",
      "Ebola Virus Disease\n",
      "\n"
     ]
    }
   ],
   "source": [
    "print(answer)"
   ]
  },
  {
   "cell_type": "code",
   "execution_count": null,
   "id": "61a26646",
   "metadata": {},
   "outputs": [],
   "source": []
  }
 ],
 "metadata": {
  "kernelspec": {
   "display_name": ".venv",
   "language": "python",
   "name": "python3"
  },
  "language_info": {
   "codemirror_mode": {
    "name": "ipython",
    "version": 3
   },
   "file_extension": ".py",
   "mimetype": "text/x-python",
   "name": "python",
   "nbconvert_exporter": "python",
   "pygments_lexer": "ipython3",
   "version": "3.10.18"
  }
 },
 "nbformat": 4,
 "nbformat_minor": 5
}
